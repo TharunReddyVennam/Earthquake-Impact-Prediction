{
 "cells": [
  {
   "cell_type": "code",
   "execution_count": 4,
   "metadata": {},
   "outputs": [],
   "source": [
    "import requests as req\n",
    "import pandas as pd"
   ]
  },
  {
   "cell_type": "code",
   "execution_count": 3,
   "metadata": {},
   "outputs": [
    {
     "name": "stdout",
     "output_type": "stream",
     "text": [
      "{'name': None, 'distance': 20, 'people': 9153612, 'people_GB_Alt': 0, 'busStops': 9554, 'tramStops': 1, 'railStops': 565}\n",
      "9153612\n"
     ]
    }
   ],
   "source": [
    "base_url = \"https://ringpopulationsapi.azurewebsites.net/api/globalringpopulations\"\n",
    "\n",
    "latitude = '40.71427'\n",
    "longitude = '-74.00597'\n",
    "radius = '20'\n",
    "\n",
    "actual_request = base_url+\"?latitude=\"+latitude+\"&longitude=\"+longitude+\"&distance_km=\"+radius\n",
    "response = req.get(actual_request)\n",
    "\n",
    "if response.status_code == 200:\n",
    "    data = response.json()\n",
    "\n",
    "print(data[0])\n",
    "print(data[0]['people'])\n"
   ]
  },
  {
   "cell_type": "code",
   "execution_count": 32,
   "metadata": {},
   "outputs": [
    {
     "name": "stdout",
     "output_type": "stream",
     "text": [
      "                                      title  magnitude         date_time  cdi  \\\n",
      "0          M 6.5 - 42 km W of Sola, Vanuatu        6.5  16-08-2023 12:47    7   \n",
      "1  M 6.5 - 43 km S of Intipucá, El Salvador        6.5  19-07-2023 00:22    8   \n",
      "2  M 6.6 - 25 km ESE of Loncopué, Argentina        6.6  17-07-2023 03:05    7   \n",
      "3     M 7.2 - 98 km S of Sand Point, Alaska        7.2  16-07-2023 06:48    6   \n",
      "4                  M 7.3 - Alaska Peninsula        7.3  16-07-2023 06:48    0   \n",
      "\n",
      "   mmi   alert  tsunami  sig net  nst      dmin    gap magType    depth  \\\n",
      "0    4   green        0  657  us  114  7.177000   25.0     mww  192.955   \n",
      "1    6  yellow        0  775  us   92  0.679000   40.0     mww   69.727   \n",
      "2    5   green        0  899  us   70  1.634000   28.0     mww  171.371   \n",
      "3    6   green        1  860  us  173  0.907000   36.0     mww   32.571   \n",
      "4    5     NaN        1  820  at   79  0.879451  172.8      Mi   21.000   \n",
      "\n",
      "   latitude  longitude               location      continent    country  \n",
      "0  -13.8814   167.1580          Sola, Vanuatu            NaN    Vanuatu  \n",
      "1   12.8140   -88.1265  Intipucá, El Salvador            NaN        NaN  \n",
      "2  -38.1911   -70.3731    Loncopué, Argentina  South America  Argentina  \n",
      "3   54.3844  -160.6990     Sand Point, Alaska            NaN        NaN  \n",
      "4   54.4900  -160.7960       Alaska Peninsula            NaN        NaN  \n"
     ]
    }
   ],
   "source": [
    "full_dataset = pd.read_csv(\"C:\\\\Users\\\\elyra\\\\OneDrive\\\\Desktop\\\\Python Programs\\\\Mini Project\\\\dataset1.csv\")\n",
    "print(full_dataset.head())"
   ]
  },
  {
   "cell_type": "code",
   "execution_count": 34,
   "metadata": {},
   "outputs": [
    {
     "name": "stdout",
     "output_type": "stream",
     "text": [
      "   latitude  longitude\n",
      "0  -13.8814   167.1580\n",
      "1   12.8140   -88.1265\n",
      "2  -38.1911   -70.3731\n",
      "3   54.3844  -160.6990\n",
      "4   54.4900  -160.7960\n"
     ]
    }
   ],
   "source": [
    "lat_and_long = full_dataset[['latitude','longitude']]\n",
    "print(lat_and_long.head())"
   ]
  },
  {
   "cell_type": "code",
   "execution_count": null,
   "metadata": {},
   "outputs": [],
   "source": [
    "population_list = []\n",
    "\n",
    "for index, row in lat_and_long.iterrows():\n",
    "    \n",
    "    lat = str(row['latitude'])\n",
    "    long = str(row['longitude'])\n",
    "\n",
    "    request = base_url+\"?latitude=\"+lat+\"&longitude=\"+long+\"&distance_km=200\"\n",
    "    response = req.get(request)\n",
    "\n",
    "    if response.status_code == 200:\n",
    "        data = response.json()\n",
    "        pop = data[0]['people']\n",
    "    else:\n",
    "        pop = None\n",
    "\n",
    "    population_list.append(pop)\n",
    "\n",
    "dataset2 = pd.DataFrame({'population': population_list})\n",
    "\n",
    "print(dataset2)"
   ]
  },
  {
   "cell_type": "code",
   "execution_count": 64,
   "metadata": {},
   "outputs": [],
   "source": [
    "dataset2_deep_copy_1 = dataset2.copy()"
   ]
  },
  {
   "cell_type": "code",
   "execution_count": 84,
   "metadata": {},
   "outputs": [],
   "source": [
    "for index in failed_indices:\n",
    "    lat = str(lat_and_long.at[index, 'latitude'])\n",
    "    long = str(lat_and_long.at[index, 'longitude'])\n",
    "    \n",
    "    request = base_url+\"?latitude=\"+lat+\"&longitude=\"+long+\"&distance_km=15\"\n",
    "    response = req.get(request)\n",
    "\n",
    "    if response.status_code == 200:\n",
    "        data = response.json()\n",
    "        pop = data[0]['people']\n",
    "    else:\n",
    "        print(\"API call failed at index\", index)\n",
    "        pop = None\n",
    "\n",
    "    dataset2_deep_copy_1.at[index, 'population'] = pop"
   ]
  },
  {
   "cell_type": "code",
   "execution_count": 86,
   "metadata": {},
   "outputs": [],
   "source": [
    "population_file_path = \"population_data.csv\"\n",
    "dataset2_deep_copy_1.to_csv(population_file_path, index = False)"
   ]
  },
  {
   "cell_type": "code",
   "execution_count": null,
   "metadata": {},
   "outputs": [],
   "source": []
  }
 ],
 "metadata": {
  "kernelspec": {
   "display_name": "base",
   "language": "python",
   "name": "python3"
  },
  "language_info": {
   "codemirror_mode": {
    "name": "ipython",
    "version": 3
   },
   "file_extension": ".py",
   "mimetype": "text/x-python",
   "name": "python",
   "nbconvert_exporter": "python",
   "pygments_lexer": "ipython3",
   "version": "3.11.7"
  }
 },
 "nbformat": 4,
 "nbformat_minor": 2
}
