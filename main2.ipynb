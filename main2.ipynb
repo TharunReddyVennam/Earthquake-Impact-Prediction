{
 "cells": [
  {
   "cell_type": "code",
   "execution_count": 10,
   "metadata": {},
   "outputs": [],
   "source": [
    "import numpy as np\n",
    "import pandas as pd\n",
    "import matplotlib.pyplot as plt\n",
    "import math\n",
    "from sklearn.model_selection import train_test_split\n",
    "from sklearn.linear_model import LinearRegression\n",
    "from sklearn.svm import SVR\n",
    "from sklearn.tree import DecisionTreeRegressor\n",
    "from sklearn.tree import export_graphviz\n",
    "from sklearn.tree import plot_tree\n",
    "from sklearn.ensemble import RandomForestRegressor\n",
    "from sklearn.metrics import r2_score\n",
    "from sklearn.metrics import mean_absolute_error\n",
    "from sklearn.metrics import mean_squared_error\n",
    "import seaborn as sns"
   ]
  },
  {
   "cell_type": "code",
   "execution_count": 11,
   "metadata": {},
   "outputs": [
    {
     "name": "stdout",
     "output_type": "stream",
     "text": [
      "   magnitude  cdi  mmi  tsunami  sig  nst    depth  population\n",
      "0        6.5    7    4        0  657  114  192.955    100400.0\n",
      "1        6.5    8    6        0  775   92   69.727  10407607.0\n",
      "2        6.6    7    5        0  899   70  171.371    907006.0\n",
      "3        7.2    6    6        1  860  173   32.571      2591.0\n",
      "4        7.3    0    5        1  820   79   21.000      2600.0\n"
     ]
    }
   ],
   "source": [
    "dataset = pd.read_csv(\"augmented_dataset.csv\")\n",
    "print(dataset.head())"
   ]
  },
  {
   "cell_type": "code",
   "execution_count": 12,
   "metadata": {},
   "outputs": [],
   "source": [
    "features = dataset.drop(columns=\"sig\")\n",
    "target = dataset.sig"
   ]
  },
  {
   "cell_type": "code",
   "execution_count": 13,
   "metadata": {},
   "outputs": [],
   "source": [
    "training_features, testing_features, training_target, testing_target = train_test_split(features, target, test_size=0.2, random_state=0)"
   ]
  },
  {
   "cell_type": "code",
   "execution_count": 14,
   "metadata": {},
   "outputs": [
    {
     "name": "stdout",
     "output_type": "stream",
     "text": [
      "0.4213715702425448\n",
      "56427.5074188867\n",
      "136.20950738871898\n"
     ]
    }
   ],
   "source": [
    "linear_regression_model = LinearRegression()\n",
    "linear_regression_model.fit(training_features, training_target)\n",
    "predicted_of_linear_regression_model = linear_regression_model.predict(testing_features)\n",
    "print(r2_score(testing_target, predicted_of_linear_regression_model))\n",
    "print(mean_squared_error(testing_target, predicted_of_linear_regression_model))\n",
    "print(mean_absolute_error(testing_target, predicted_of_linear_regression_model))"
   ]
  },
  {
   "cell_type": "code",
   "execution_count": 15,
   "metadata": {},
   "outputs": [
    {
     "name": "stdout",
     "output_type": "stream",
     "text": [
      "-0.09388303541357534\n",
      "106674.83642666374\n",
      "162.52816147198294\n"
     ]
    }
   ],
   "source": [
    "SVR_model_rbf = SVR(kernel=\"rbf\")\n",
    "SVR_model_rbf.fit(training_features, training_target)\n",
    "predicted_of_SVR_model_rbf = SVR_model_rbf.predict(testing_features)\n",
    "print(r2_score(testing_target, predicted_of_SVR_model_rbf))\n",
    "print(mean_squared_error(testing_target, predicted_of_SVR_model_rbf))\n",
    "print(mean_absolute_error(testing_target, predicted_of_SVR_model_rbf))"
   ]
  },
  {
   "cell_type": "code",
   "execution_count": 16,
   "metadata": {},
   "outputs": [],
   "source": [
    "# SVR_model_linear = SVR(kernel=\"linear\")\n",
    "# SVR_model_linear.fit(training_features, training_target)\n",
    "# predicted_of_SVR_model_linear = SVR_model_linear.predict(testing_features)\n",
    "# print(r2_score(testing_target, predicted_of_SVR_model_linear))\n",
    "# print(mean_squared_error(testing_target, predicted_of_SVR_model_linear))\n",
    "# print(mean_absolute_error(testing_target, predicted_of_SVR_model_linear))"
   ]
  },
  {
   "cell_type": "code",
   "execution_count": 17,
   "metadata": {},
   "outputs": [
    {
     "name": "stdout",
     "output_type": "stream",
     "text": [
      "-0.006509908654858343\n",
      "98154.26\n",
      "132.36\n"
     ]
    }
   ],
   "source": [
    "DTR_model = DecisionTreeRegressor()\n",
    "DTR_model.fit(training_features, training_target)\n",
    "predicted_of_DTR_model = DTR_model.predict(testing_features)\n",
    "print(r2_score(testing_target, predicted_of_DTR_model))\n",
    "print(mean_squared_error(testing_target, predicted_of_DTR_model))\n",
    "print(mean_absolute_error(testing_target, predicted_of_DTR_model))\n",
    "\n",
    "# export_graphviz(DTR_model, out_file=\"tree.dot\")\n",
    "# plot_tree(DTR_model)"
   ]
  },
  {
   "cell_type": "code",
   "execution_count": 26,
   "metadata": {},
   "outputs": [
    {
     "name": "stdout",
     "output_type": "stream",
     "text": [
      "0.336678267479397\n",
      "64686.748970500004\n",
      "108.25755\n",
      "0.5905807957398315\n",
      "95.20984292035398\n"
     ]
    }
   ],
   "source": [
    "RFR_model = RandomForestRegressor(oob_score=True)\n",
    "RFR_model.fit(training_features, training_target)\n",
    "predicted_of_RFR_model = RFR_model.predict(testing_features)\n",
    "print(r2_score(testing_target, predicted_of_RFR_model))\n",
    "print(mean_squared_error(testing_target, predicted_of_RFR_model))\n",
    "print(mean_absolute_error(testing_target, predicted_of_RFR_model))\n",
    "\n",
    "print(RFR_model.oob_score_)\n",
    "\n",
    "print(100-(mean_absolute_error(testing_target, predicted_of_RFR_model)*100)/(max(target)-min(target)))"
   ]
  },
  {
   "cell_type": "code",
   "execution_count": null,
   "metadata": {},
   "outputs": [],
   "source": []
  },
  {
   "cell_type": "code",
   "execution_count": null,
   "metadata": {},
   "outputs": [],
   "source": []
  }
 ],
 "metadata": {
  "kernelspec": {
   "display_name": "base",
   "language": "python",
   "name": "python3"
  },
  "language_info": {
   "codemirror_mode": {
    "name": "ipython",
    "version": 3
   },
   "file_extension": ".py",
   "mimetype": "text/x-python",
   "name": "python",
   "nbconvert_exporter": "python",
   "pygments_lexer": "ipython3",
   "version": "3.11.7"
  }
 },
 "nbformat": 4,
 "nbformat_minor": 2
}
