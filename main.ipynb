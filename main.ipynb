{
 "cells": [
  {
   "cell_type": "code",
   "execution_count": 9,
   "metadata": {},
   "outputs": [],
   "source": [
    "import numpy as np\n",
    "import pandas as pd\n",
    "import matplotlib.pyplot as plt\n",
    "import math\n",
    "from sklearn.model_selection import train_test_split\n",
    "from sklearn.linear_model import LinearRegression\n",
    "from sklearn.svm import SVR\n",
    "from sklearn.tree import DecisionTreeRegressor\n",
    "from sklearn.tree import export_graphviz\n",
    "from sklearn.tree import plot_tree\n",
    "from sklearn.ensemble import RandomForestRegressor\n",
    "from sklearn.metrics import r2_score\n",
    "from sklearn.metrics import mean_absolute_error\n",
    "from sklearn.metrics import mean_squared_error\n",
    "import seaborn as sns"
   ]
  },
  {
   "cell_type": "code",
   "execution_count": 10,
   "metadata": {},
   "outputs": [],
   "source": [
    "full_dataset = pd.read_csv(\"C:\\\\Users\\\\elyra\\\\OneDrive\\\\Desktop\\\\Python Programs\\\\Mini Project\\\\dataset1.csv\")"
   ]
  },
  {
   "cell_type": "code",
   "execution_count": 11,
   "metadata": {},
   "outputs": [],
   "source": [
    "# print(full_dataset.head())\n",
    "# print(full_dataset.shape)\n",
    "# print(full_dataset.info())"
   ]
  },
  {
   "cell_type": "code",
   "execution_count": 12,
   "metadata": {},
   "outputs": [
    {
     "name": "stdout",
     "output_type": "stream",
     "text": [
      "   magnitude  cdi  mmi  tsunami  sig  nst    depth\n",
      "0        6.5    7    4        0  657  114  192.955\n",
      "1        6.5    8    6        0  775   92   69.727\n",
      "2        6.6    7    5        0  899   70  171.371\n",
      "3        7.2    6    6        1  860  173   32.571\n",
      "4        7.3    0    5        1  820   79   21.000\n"
     ]
    }
   ],
   "source": [
    "dataset = full_dataset.drop(columns=[\"title\",\"date_time\",\"alert\",\"net\",\"dmin\",\"gap\",\"magType\", \"location\",\"continent\",\"country\",\"latitude\",\"longitude\"])\n",
    "print(dataset.head())"
   ]
  },
  {
   "cell_type": "code",
   "execution_count": 13,
   "metadata": {},
   "outputs": [
    {
     "data": {
      "text/plain": [
       "<Axes: >"
      ]
     },
     "execution_count": 13,
     "metadata": {},
     "output_type": "execute_result"
    },
    {
     "data": {
      "image/png": "[encoded data removed]",
      "text/plain": [
       "<Figure size 640x480 with 2 Axes>"
      ]
     },
     "metadata": {},
     "output_type": "display_data"
    }
   ],
   "source": [
    "sns.heatmap(dataset.corr())"
   ]
  },
  {
   "cell_type": "code",
   "execution_count": 14,
   "metadata": {},
   "outputs": [
    {
     "name": "stdout",
     "output_type": "stream",
     "text": [
      "<bound method DataFrame.info of      magnitude  cdi  mmi  tsunami  nst    depth\n",
      "0          6.5    7    4        0  114  192.955\n",
      "1          6.5    8    6        0   92   69.727\n",
      "2          6.6    7    5        0   70  171.371\n",
      "3          7.2    6    6        1  173   32.571\n",
      "4          7.3    0    5        1   79   21.000\n",
      "..         ...  ...  ...      ...  ...      ...\n",
      "995        7.1    0    9        0    0   11.000\n",
      "996        7.7    0    4        0    0   20.200\n",
      "997        6.9    0    6        0    0   11.200\n",
      "998        6.6    0    9        0    0   14.000\n",
      "999        7.1    0    7        0    0   16.000\n",
      "\n",
      "[1000 rows x 6 columns]>\n",
      "<bound method Series.info of 0      657\n",
      "1      775\n",
      "2      899\n",
      "3      860\n",
      "4      820\n",
      "      ... \n",
      "995    776\n",
      "996    912\n",
      "997    732\n",
      "998    670\n",
      "999    776\n",
      "Name: sig, Length: 1000, dtype: int64>\n"
     ]
    }
   ],
   "source": [
    "features = dataset.drop(columns=\"sig\")\n",
    "target = dataset.sig\n",
    "print(features.info)\n",
    "print(target.info)"
   ]
  },
  {
   "cell_type": "code",
   "execution_count": 15,
   "metadata": {},
   "outputs": [],
   "source": [
    "training_features, testing_features, training_target, testing_target = train_test_split(features, target, test_size=0.2, random_state=0)"
   ]
  },
  {
   "cell_type": "code",
   "execution_count": 16,
   "metadata": {},
   "outputs": [
    {
     "name": "stdout",
     "output_type": "stream",
     "text": [
      "0.40087830490978393\n",
      "58425.99871681048\n",
      "139.5480528914305\n"
     ]
    }
   ],
   "source": [
    "linear_regression_model = LinearRegression()\n",
    "linear_regression_model.fit(training_features, training_target)\n",
    "predicted_of_linear_regression_model = linear_regression_model.predict(testing_features)\n",
    "print(r2_score(testing_target, predicted_of_linear_regression_model))\n",
    "print(mean_squared_error(testing_target, predicted_of_linear_regression_model))\n",
    "print(mean_absolute_error(testing_target, predicted_of_linear_regression_model))"
   ]
  },
  {
   "cell_type": "code",
   "execution_count": 17,
   "metadata": {},
   "outputs": [
    {
     "name": "stdout",
     "output_type": "stream",
     "text": [
      "-0.121881953148121\n",
      "109405.27457476706\n",
      "164.4811110340445\n"
     ]
    }
   ],
   "source": [
    "SVR_model_rbf = SVR(kernel=\"rbf\")\n",
    "SVR_model_rbf.fit(training_features, training_target)\n",
    "predicted_of_SVR_model_rbf = SVR_model_rbf.predict(testing_features)\n",
    "print(r2_score(testing_target, predicted_of_SVR_model_rbf))\n",
    "print(mean_squared_error(testing_target, predicted_of_SVR_model_rbf))\n",
    "print(mean_absolute_error(testing_target, predicted_of_SVR_model_rbf))"
   ]
  },
  {
   "cell_type": "code",
   "execution_count": 18,
   "metadata": {},
   "outputs": [
    {
     "name": "stdout",
     "output_type": "stream",
     "text": [
      "0.16585906725776356\n",
      "81344.93787392956\n",
      "116.20688846529265\n"
     ]
    }
   ],
   "source": [
    "SVR_model_linear = SVR(kernel=\"linear\")\n",
    "SVR_model_linear.fit(training_features, training_target)\n",
    "predicted_of_SVR_model_linear = SVR_model_linear.predict(testing_features)\n",
    "print(r2_score(testing_target, predicted_of_SVR_model_linear))\n",
    "print(mean_squared_error(testing_target, predicted_of_SVR_model_linear))\n",
    "print(mean_absolute_error(testing_target, predicted_of_SVR_model_linear))"
   ]
  },
  {
   "cell_type": "code",
   "execution_count": 19,
   "metadata": {},
   "outputs": [
    {
     "name": "stdout",
     "output_type": "stream",
     "text": [
      "-0.11251840414526115\n",
      "108492.14673027545\n",
      "163.80098750653863\n"
     ]
    }
   ],
   "source": [
    "SVR_model_poly = SVR(kernel=\"poly\")\n",
    "SVR_model_poly.fit(training_features, training_target)\n",
    "predicted_of_SVR_model_poly = SVR_model_poly.predict(testing_features)\n",
    "print(r2_score(testing_target, predicted_of_SVR_model_poly))\n",
    "print(mean_squared_error(testing_target, predicted_of_SVR_model_poly))\n",
    "print(mean_absolute_error(testing_target, predicted_of_SVR_model_poly))"
   ]
  },
  {
   "cell_type": "code",
   "execution_count": 20,
   "metadata": {},
   "outputs": [
    {
     "name": "stdout",
     "output_type": "stream",
     "text": [
      "-0.11930728351534436\n",
      "109154.19429192373\n",
      "164.571414297331\n"
     ]
    }
   ],
   "source": [
    "SVR_model_sigmoid = SVR(kernel=\"sigmoid\")\n",
    "SVR_model_sigmoid.fit(training_features, training_target)\n",
    "predicted_of_SVR_model_sigmoid = SVR_model_sigmoid.predict(testing_features)\n",
    "print(r2_score(testing_target, predicted_of_SVR_model_sigmoid))\n",
    "print(mean_squared_error(testing_target, predicted_of_SVR_model_sigmoid))\n",
    "print(mean_absolute_error(testing_target, predicted_of_SVR_model_sigmoid))"
   ]
  },
  {
   "cell_type": "code",
   "execution_count": 21,
   "metadata": {},
   "outputs": [
    {
     "name": "stdout",
     "output_type": "stream",
     "text": [
      "-0.12124686604080659\n",
      "109343.34125\n",
      "139.0225\n"
     ]
    }
   ],
   "source": [
    "DTR_model = DecisionTreeRegressor()\n",
    "DTR_model.fit(training_features, training_target)\n",
    "predicted_of_DTR_model = DTR_model.predict(testing_features)\n",
    "print(r2_score(testing_target, predicted_of_DTR_model))\n",
    "print(mean_squared_error(testing_target, predicted_of_DTR_model))\n",
    "print(mean_absolute_error(testing_target, predicted_of_DTR_model))\n",
    "\n",
    "# export_graphviz(DTR_model, out_file=\"tree.dot\")\n",
    "# plot_tree(DTR_model)"
   ]
  },
  {
   "cell_type": "code",
   "execution_count": 24,
   "metadata": {},
   "outputs": [
    {
     "name": "stdout",
     "output_type": "stream",
     "text": [
      "0.3282359527191513\n",
      "65510.03858827082\n",
      "113.71835666666666\n",
      "0.5022724711216573\n",
      "94.96821430678466\n"
     ]
    }
   ],
   "source": [
    "RFR_model = RandomForestRegressor(oob_score=True)\n",
    "RFR_model.fit(training_features, training_target)\n",
    "predicted_of_RFR_model = RFR_model.predict(testing_features)\n",
    "print(r2_score(testing_target, predicted_of_RFR_model))\n",
    "print(mean_squared_error(testing_target, predicted_of_RFR_model))\n",
    "print(mean_absolute_error(testing_target, predicted_of_RFR_model))\n",
    "\n",
    "print(RFR_model.oob_score_)\n",
    "\n",
    "print(100-(mean_absolute_error(testing_target, predicted_of_RFR_model)*100)/(max(target)-min(target)))"
   ]
  },
  {
   "cell_type": "code",
   "execution_count": 23,
   "metadata": {},
   "outputs": [],
   "source": [
    "population_data = pd.read_csv(\"population_data.csv\")\n",
    "augmented_dataset = pd.concat([dataset, population_data], axis=1)\n",
    "# print(augmented_dataset.head())\n",
    "augmented_dataset.to_csv(\"augmented_dataset.csv\", index=False)\n"
   ]
  },
  {
   "cell_type": "code",
   "execution_count": null,
   "metadata": {},
   "outputs": [],
   "source": []
  }
 ],
 "metadata": {
  "kernelspec": {
   "display_name": "Python 3",
   "language": "python",
   "name": "python3"
  },
  "language_info": {
   "codemirror_mode": {
    "name": "ipython",
    "version": 3
   },
   "file_extension": ".py",
   "mimetype": "text/x-python",
   "name": "python",
   "nbconvert_exporter": "python",
   "pygments_lexer": "ipython3",
   "version": "3.12.1"
  }
 },
 "nbformat": 4,
 "nbformat_minor": 2
}
